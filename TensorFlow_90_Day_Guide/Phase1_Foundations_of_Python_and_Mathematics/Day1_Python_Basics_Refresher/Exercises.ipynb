{
 "cells": [
  {
   "cell_type": "markdown",
   "id": "d1c7e628",
   "metadata": {},
   "source": [
    "# 🌟 Welcome to Day 1\n",
    "Welcome to **Day 1** of \"Becoming a Scikit-Learn Boss in 90 Days\"! 🎉 Today, we kickstart our journey by **refreshing Python basics**. Whether you're a seasoned programmer or just starting, revisiting these fundamentals will ensure you're well-prepared for the advanced topics ahead. Let's dive in and set a strong foundation for your machine learning endeavors! 🚀"
   ]
  },
  {
   "cell_type": "markdown",
   "id": "c650ca24",
   "metadata": {},
   "source": [
    "## 🐍 Python Basics\n",
    "### 📝 Variables and Data Types\n",
    "**Variables** are the building blocks of any programming language. They store data that can be manipulated and used throughout your code. Python offers various data types to handle different kinds of data.\n",
    "\n",
    "- **Integers (`int`)**: Whole numbers without a decimal point.\n",
    "- **Floating-point (`float`)**: Numbers with decimal points.\n",
    "- **Strings (`str`)**: Sequences of characters enclosed in quotes.\n",
    "- **Booleans (`bool`)**: Represent logical values, either `True` or `False`.\n",
    "\n",
    "#### 🧩 **Try It Yourself!**\n",
    "Create variables of different data types and print their values."
   ]
  },
  {
   "cell_type": "code",
   "execution_count": null,
   "id": "17364151",
   "metadata": {},
   "outputs": [],
   "source": [
    "# Define variables\n",
    "age = 30\n",
    "height = 5.9\n",
    "name = 'Bob'\n",
    "is_employed = True\n",
    "\n",
    "# Print variables\n",
    "print(age, height, name, is_employed)"
   ]
  },
  {
   "cell_type": "markdown",
   "id": "55a10e46",
   "metadata": {},
   "source": [
    "### ⚙️ Operators\n",
    "Operators allow you to perform operations on variables and values. Python supports several types of operators:\n",
    "\n",
    "- **Arithmetic Operators**: `+`, `-`, `*`, `/`, `%`, `**`, `//`\n",
    "- **Comparison Operators**: `==`, `!=`, `>`, `<`, `>=`, `<=`\n",
    "- **Logical Operators**: `and`, `or`, `not`\n",
    "\n",
    "#### 🧩 **Try It Yourself!**\n",
    "Write a script that takes two numbers as input and performs all arithmetic operations."
   ]
  },
  {
   "cell_type": "code",
   "execution_count": null,
   "id": "eed6d1e4",
   "metadata": {},
   "outputs": [],
   "source": [
    "# Input numbers\n",
    "num1 = float(input('Enter first number: '))\n",
    "num2 = float(input('Enter second number: '))\n",
    "\n",
    "# Perform operations\n",
    "addition = num1 + num2\n",
    "subtraction = num1 - num2\n",
    "multiplication = num1 * num2\n",
    "division = num1 / num2 if num2 != 0 else 'Undefined'\n",
    "\n",
    "# Display results\n",
    "print(f'Addition: {addition}')\n",
    "print(f'Subtraction: {subtraction}')\n",
    "print(f'Multiplication: {multiplication}')\n",
    "print(f'Division: {division}')\n",
    "\n",
    "# Bonus: Comparison\n",
    "if num1 > num2:\n",
    "    print(f'{num1} is greater than {num2}.')\n",
    "elif num1 < num2:\n",
    "    print(f'{num1} is less than {num2}.')\n",
    "else:\n",
    "    print('Both numbers are equal.')"
   ]
  },
  {
   "cell_type": "markdown",
   "id": "cf249251",
   "metadata": {},
   "source": [
    "### 🔄 Control Structures\n",
    "Control structures dictate the flow of your program. The primary ones in Python are **conditional statements** and **loops**.\n",
    "\n",
    "- **`if` Statement**: Executes a block of code if a condition is true.\n",
    "- **`elif` Statement**: Checks another condition if the previous `if` was false.\n",
    "- **`else` Statement**: Executes a block of code if all previous conditions are false.\n",
    "\n",
    "- **`for` Loop**: Iterates over a sequence (like a list, tuple, or string).\n",
    "- **`while` Loop**: Repeats as long as a condition is true.\n",
    "\n",
    "#### 🧩 **Try It Yourself!**\n",
    "Create a program that checks if a number is positive, negative, or zero."
   ]
  },
  {
   "cell_type": "code",
   "execution_count": null,
   "id": "ece0eab9",
   "metadata": {},
   "outputs": [],
   "source": [
    "# Check if a number is positive, negative, or zero\n",
    "num = float(input('Enter a number: '))\n",
    "\n",
    "if num > 0:\n",
    "    print('Positive number')\n",
    "elif num == 0:\n",
    "    print('Zero')\n",
    "else:\n",
    "    print('Negative number')\n",
    "\n",
    "# Bonus: Print all even numbers from 1 to 20\n",
    "print('Even numbers from 1 to 20:')\n",
    "for i in range(1, 21):\n",
    "    if i % 2 == 0:\n",
    "        print(i, end=' ')"
   ]
  },
  {
   "cell_type": "markdown",
   "id": "280bb06f",
   "metadata": {},
   "source": [
    "\n",
    "<div style=\"background-color: #FFFFFF; color: black; text-align: center; padding: 20px; margin-top: 50px; border-top: 2px solid #000000; font-family: Georgia, serif;\">\n",
    "    <p style=\"font-size: 18px; font-weight: bold;\">Connect with me:</p>\n",
    "    <div style=\"display: flex; justify-content: center; gap: 20px; padding-bottom: 10px;\">\n",
    "        <a href=\"https://facebook.com/ahammadmejbah\" target=\"_blank\">\n",
    "            <img src=\"https://cdn-icons-png.flaticon.com/512/733/733547.png\" alt=\"Facebook\" width=\"30\" style=\"transition: transform 0.2s;\">\n",
    "        </a>\n",
    "        <a href=\"https://instagram.com/ahammadmejbah\" target=\"_blank\">\n",
    "            <img src=\"https://cdn-icons-png.flaticon.com/512/733/733558.png\" alt=\"Instagram\" width=\"30\" style=\"transition: transform 0.2s;\">\n",
    "        </a>\n",
    "        <a href=\"https://github.com/ahammadmejbah\" target=\"_blank\">\n",
    "            <img src=\"https://cdn-icons-png.flaticon.com/512/733/733553.png\" alt=\"GitHub\" width=\"30\" style=\"transition: transform 0.2s;\">\n",
    "        </a>\n",
    "        <a href=\"https://ahammadmejbah.com/\" target=\"_blank\">\n",
    "            <img src=\"https://cdn-icons-png.flaticon.com/512/919/919827.png\" alt=\"Portfolio\" width=\"30\" style=\"transition: transform 0.2s;\">\n",
    "        </a>\n",
    "        <a href=\"https://www.linkedin.com/in/ahammadmejbah/\" target=\"_blank\">\n",
    "            <img src=\"https://cdn-icons-png.flaticon.com/512/145/145807.png\" alt=\"LinkedIn\" width=\"30\" style=\"transition: transform 0.2s;\">\n",
    "        </a>\n",
    "        <a href=\"https://ahammadmejbah.com/\" target=\"_blank\">\n",
    "            <img src=\"https://cdn-icons-png.flaticon.com/512/2301/2301122.png\" alt=\"Website\" width=\"30\" style=\"transition: transform 0.2s;\">\n",
    "        </a>\n",
    "    </div>\n",
    "    <br>\n",
    "    <p style=\"font-size: 16px; font-weight: 500;\">\n",
    "        Scikit Learn Cheat Sheet v1.0 | Nov 2024 | \n",
    "        <a href=\"https://ahammadmejbah.com/\" style=\"color: #000000; text-decoration: none;\">Mejbah Ahammad</a>\n",
    "    </p>\n",
    "    <p style=\"font-size: 20px; color: #FF0000;\">\n",
    "        All content is © 2024 Mejbah Ahammad. Unauthorized reproduction, distribution, or modification is strictly prohibited.\n",
    "    </p>\n",
    "</div>"
   ]
  }
 ],
 "metadata": {
  "language_info": {
   "name": "python"
  }
 },
 "nbformat": 4,
 "nbformat_minor": 5
}
