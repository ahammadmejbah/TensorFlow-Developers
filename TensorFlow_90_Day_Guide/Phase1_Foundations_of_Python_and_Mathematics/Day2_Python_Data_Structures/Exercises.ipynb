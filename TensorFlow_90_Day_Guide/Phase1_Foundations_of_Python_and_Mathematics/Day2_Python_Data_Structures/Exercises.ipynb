{
 "cells": [
  {
   "cell_type": "markdown",
   "id": "dc2b9a0a",
   "metadata": {},
   "source": [
    "## 🌟 Welcome to Day 2\n",
    "Welcome to **Day 2** of \"Becoming a Scikit-Learn Boss in 90 Days\"! 🎉 Today, we delve into **Python Data Structures**, the backbone of efficient programming and data manipulation. Understanding these structures is crucial for handling data effectively, especially in machine learning tasks. Let's explore the powerful tools Python offers to organize and manage data seamlessly! 🚀"
   ]
  },
  {
   "cell_type": "markdown",
   "id": "b5dad45b",
   "metadata": {},
   "source": [
    "## 2. 📦 Python Data Structures\n",
    "Python provides a variety of data structures to store and manipulate data efficiently. Each structure has its unique characteristics and use-cases.\n",
    "\n",
    "### 📝 Lists\n",
    "**Lists** are ordered, mutable collections that can hold heterogeneous items. They are defined using square brackets `[]`.\n",
    "#### 🧩 **Try It Yourself!**\n",
    "Create a list of your favorite movies, add a new movie, remove one, and print the updated list."
   ]
  },
  {
   "cell_type": "code",
   "execution_count": null,
   "id": "83a4946c",
   "metadata": {},
   "outputs": [],
   "source": [
    "# Creating and manipulating a list\n",
    "fruits = ['apple', 'banana', 'cherry']\n",
    "fruits.append('date')\n",
    "fruits.remove('banana')\n",
    "print(fruits)  # Output: ['apple', 'cherry', 'date']\n",
    "\n",
    "# List slicing\n",
    "numbers = [0, 1, 2, 3, 4, 5, 6]\n",
    "print(numbers[2:5])  # Output: [2, 3, 4]"
   ]
  },
  {
   "cell_type": "markdown",
   "id": "362933d9",
   "metadata": {},
   "source": [
    "### 📝 Tuples\n",
    "**Tuples** are ordered, immutable collections that can hold heterogeneous items. They are defined using parentheses `()`.\n",
    "#### 🧩 **Try It Yourself!**\n",
    "Create a tuple with your personal information and unpack it."
   ]
  },
  {
   "cell_type": "code",
   "execution_count": null,
   "id": "869a00b9",
   "metadata": {},
   "outputs": [],
   "source": [
    "# Tuple operations\n",
    "coordinates = (10.0, 20.0, 30.0)\n",
    "print(coordinates[1])  # Output: 20.0\n",
    "\n",
    "# Tuple unpacking\n",
    "person = ('Alice', 30, 'Engineer')\n",
    "name, age, profession = person\n",
    "print(name, age, profession)  # Output: Alice 30 Engineer"
   ]
  },
  {
   "cell_type": "markdown",
   "id": "9b955fd7",
   "metadata": {},
   "source": [
    "### 📝 Dictionaries\n",
    "**Dictionaries** are unordered, mutable collections of key-value pairs. They are defined using curly braces `{}`.\n",
    "#### 🧩 **Try It Yourself!**\n",
    "Create a dictionary to store information about a book, update its price, and print the updated dictionary."
   ]
  },
  {
   "cell_type": "code",
   "execution_count": null,
   "id": "7740638b",
   "metadata": {},
   "outputs": [],
   "source": [
    "# Dictionary creation and manipulation\n",
    "student = {'name': 'Emily', 'age': 22, 'major': 'Computer Science'}\n",
    "student['age'] = 23\n",
    "student['graduated'] = False\n",
    "del student['graduated']\n",
    "print(student)  # Output: {'name': 'Emily', 'age': 23, 'major': 'Computer Science'}"
   ]
  },
  {
   "cell_type": "markdown",
   "id": "a00074d7",
   "metadata": {},
   "source": [
    "### 📝 Sets\n",
    "**Sets** are unordered, mutable collections of unique items. They are defined using curly braces `{}` or the `set()` function.\n",
    "#### 🧩 **Try It Yourself!**\n",
    "Create a set of unique programming languages, add a new language, and perform a union with another set."
   ]
  },
  {
   "cell_type": "code",
   "execution_count": null,
   "id": "d6178d66",
   "metadata": {},
   "outputs": [],
   "source": [
    "# Set operations\n",
    "colors = {'red', 'green', 'blue'}\n",
    "colors.add('yellow')\n",
    "colors.remove('green')\n",
    "print(colors)  # Output: {'red', 'blue', 'yellow'}"
   ]
  },
  {
   "cell_type": "markdown",
   "id": "f13e6180",
   "metadata": {},
   "source": [
    "### 📝 Comprehensions\n",
    "**Comprehensions** provide a concise way to create lists, dictionaries, and sets.\n",
    "#### 🧩 **Try It Yourself!**\n",
    "Use list comprehensions to create a list of even numbers and a dictionary mapping numbers to their cubes."
   ]
  },
  {
   "cell_type": "code",
   "execution_count": null,
   "id": "012dbc65",
   "metadata": {},
   "outputs": [],
   "source": [
    "# Comprehensions\n",
    "squares = [x**2 for x in range(10)]\n",
    "even_squares = [x**2 for x in range(10) if x % 2 == 0]\n",
    "print(squares, even_squares)  # Output: [0, 1, 4, 9, 16, 25, 36, 49, 64, 81] [0, 4, 16, 36, 64]"
   ]
  },
  {
   "cell_type": "markdown",
   "id": "9d87cf69",
   "metadata": {},
   "source": [
    "### 📝 Nested Data Structures\n",
    "Python allows nesting of data structures, enabling the creation of complex and hierarchical data.\n",
    "#### 🧩 **Try It Yourself!**\n",
    "Create a nested dictionary representing a company's departments and employees."
   ]
  }
 ],
 "metadata": {},
 "nbformat": 4,
 "nbformat_minor": 5
}
