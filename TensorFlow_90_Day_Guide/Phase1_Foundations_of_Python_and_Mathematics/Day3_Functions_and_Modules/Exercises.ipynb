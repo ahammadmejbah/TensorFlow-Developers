{
 "cells": [
  {
   "cell_type": "markdown",
   "id": "f0ee24ec",
   "metadata": {},
   "source": [
    "# 🐍 Day 3: Functions and Modules 🛠️\n",
    "![Python Functions](https://media.giphy.com/media/3o6Zt481isNVuQI1l6/giphy.gif)\n",
    "\n",
    "---\n",
    "\n",
    "## 1. 🌟 Welcome to Day 3\n",
    "Welcome to **Day 3** of \"Becoming a Scikit-Learn Boss in 90 Days\"! Today, we dive deep into **Functions and Modules** in Python. We will explore exception handling, decorators, context managers, and more.\n",
    "\n",
    "Let's start by enhancing our skills with more advanced function usage and robust module handling. 🚀"
   ]
  },
  {
   "cell_type": "markdown",
   "id": "50abb09d",
   "metadata": {},
   "source": [
    "## 2. 🔧 Advanced Functions\n",
    "### 📝 Exception Handling\n",
    "Proper error handling is crucial for building reliable applications. Here’s how you can manage exceptions:\n",
    "```python\n",
    "try:\n",
    "    # Attempt to execute code that may cause an error\n",
    "    result = 10 / 0\n",
    "except ZeroDivisionError:\n",
    "    print('Divided by zero!')\n",
    "finally:\n",
    "    print('This gets executed no matter what.')\n",
    "```\n"
   ]
  },
  {
   "cell_type": "code",
   "execution_count": null,
   "id": "aa78d5c2",
   "metadata": {},
   "outputs": [],
   "source": [
    "# Example of exception handling\n",
    "try:\n",
    "    result = 10 / 0\n",
    "except ZeroDivisionError:\n",
    "    print('Divided by zero!')\n",
    "finally:\n",
    "    print('This gets executed no matter what.')\n"
   ]
  },
  {
   "cell_type": "markdown",
   "id": "b9a4e7b2",
   "metadata": {},
   "source": [
    "### 📝 Decorators\n",
    "Decorators allow you to modify the behavior of a function or class. Here's a simple decorator that logs function calls:\n",
    "```python\n",
    "def logger(func):\n",
    "    def wrapper(*args, **kwargs):\n",
    "        print(f'Calling {func.__name__} with {args} and {kwargs}')\n",
    "        return func(*args, **kwargs)\n",
    "    return wrapper\n",
    "\n",
    "@logger\n",
    "def add(x, y):\n",
    "    return x + y\n",
    "\n",
    "print(add(5, 3))\n",
    "```"
   ]
  },
  {
   "cell_type": "code",
   "execution_count": null,
   "id": "bd9151f1",
   "metadata": {},
   "outputs": [],
   "source": [
    "# Implementing a simple decorator\n",
    "def logger(func):\n",
    "    def wrapper(*args, **kwargs):\n",
    "        print(f'Calling {func.__name__} with {args} and {kwargs}')\n",
    "        return func(*args, **kwargs)\n",
    "    return wrapper\n",
    "\n",
    "@logger\n",
    "def add(x, y):\n",
    "    return x + y\n",
    "\n",
    "add(5, 3)\n"
   ]
  },
  {
   "cell_type": "markdown",
   "id": "6c9caf2c",
   "metadata": {},
   "source": [
    "## 3. 📦 Modules and Context Managers\n",
    "### 📝 Using Built-in Modules\n",
    "Python comes with a rich set of built-in modules that you can utilize. For example, `datetime` for managing dates:\n",
    "```python\n",
    "import datetime\n",
    "print(datetime.datetime.now())\n",
    "```"
   ]
  },
  {
   "cell_type": "code",
   "execution_count": null,
   "id": "81bcad70",
   "metadata": {},
   "outputs": [],
   "source": [
    "# Using datetime module\n",
    "import datetime\n",
    "print(datetime.datetime.now())\n"
   ]
  },
  {
   "cell_type": "markdown",
   "id": "a5cf1405",
   "metadata": {},
   "source": [
    "### 📝 Creating and Using Context Managers\n",
    "Context managers are great for managing resources. Here’s how you can create one using a class:\n",
    "```python\n",
    "class ManagedFile:\n",
    "    def __init__(self, filename):\n",
    "        self.filename = filename\n",
    "    def __enter__(self):\n",
    "        self.file = open(self.filename, 'w')\n",
    "        return self.file\n",
    "    def __exit__(self, exc_type, exc_val, exc_tb):\n",
    "        if self.file:\n",
    "            self.file.close()\n",
    "```"
   ]
  },
  {
   "cell_type": "code",
   "execution_count": null,
   "id": "9ab965ce",
   "metadata": {},
   "outputs": [],
   "source": [
    "# Using a context manager\n",
    "class ManagedFile:\n",
    "    def __init__(self, filename):\n",
    "        self.filename = filename\n",
    "    def __enter__(self):\n",
    "        self.file = open(self.filename, 'w')\n",
    "        return self.file\n",
    "    def __exit__(self, exc_type, exc_val, exc_tb):\n",
    "        if self.file:\n",
    "            self.file.close()\n",
    "\n",
    "with ManagedFile('hello.txt') as f:\n",
    "    f.write('Hello, world!')\n"
   ]
  }
 ],
 "metadata": {},
 "nbformat": 4,
 "nbformat_minor": 5
}
